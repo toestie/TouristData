{
 "cells": [
  {
   "cell_type": "code",
   "execution_count": 2,
   "metadata": {},
   "outputs": [],
   "source": [
    "import numpy as np\n",
    "import pandas as pd\n",
    "import matplotlib.pyplot as plt"
   ]
  },
  {
   "cell_type": "code",
   "execution_count": 5,
   "metadata": {},
   "outputs": [
    {
     "data": {
      "text/html": [
       "<div>\n",
       "<style scoped>\n",
       "    .dataframe tbody tr th:only-of-type {\n",
       "        vertical-align: middle;\n",
       "    }\n",
       "\n",
       "    .dataframe tbody tr th {\n",
       "        vertical-align: top;\n",
       "    }\n",
       "\n",
       "    .dataframe thead th {\n",
       "        text-align: right;\n",
       "    }\n",
       "</style>\n",
       "<table border=\"1\" class=\"dataframe\">\n",
       "  <thead>\n",
       "    <tr style=\"text-align: right;\">\n",
       "      <th></th>\n",
       "      <th>Year</th>\n",
       "      <th>Population</th>\n",
       "      <th>GrowthRate</th>\n",
       "      <th>Growth</th>\n",
       "    </tr>\n",
       "  </thead>\n",
       "  <tbody>\n",
       "    <tr>\n",
       "      <th>0</th>\n",
       "      <td>1950</td>\n",
       "      <td>11274641</td>\n",
       "      <td>0.0000</td>\n",
       "      <td>0</td>\n",
       "    </tr>\n",
       "    <tr>\n",
       "      <th>1</th>\n",
       "      <td>1955</td>\n",
       "      <td>13712679</td>\n",
       "      <td>0.0399</td>\n",
       "      <td>2438038</td>\n",
       "    </tr>\n",
       "    <tr>\n",
       "      <th>2</th>\n",
       "      <td>1960</td>\n",
       "      <td>16678821</td>\n",
       "      <td>0.0399</td>\n",
       "      <td>2966142</td>\n",
       "    </tr>\n",
       "    <tr>\n",
       "      <th>3</th>\n",
       "      <td>1965</td>\n",
       "      <td>20284371</td>\n",
       "      <td>0.0399</td>\n",
       "      <td>3605550</td>\n",
       "    </tr>\n",
       "    <tr>\n",
       "      <th>4</th>\n",
       "      <td>1970</td>\n",
       "      <td>23297503</td>\n",
       "      <td>0.0281</td>\n",
       "      <td>3013132</td>\n",
       "    </tr>\n",
       "    <tr>\n",
       "      <th>5</th>\n",
       "      <td>1975</td>\n",
       "      <td>26614733</td>\n",
       "      <td>0.0270</td>\n",
       "      <td>3317230</td>\n",
       "    </tr>\n",
       "    <tr>\n",
       "      <th>6</th>\n",
       "      <td>1980</td>\n",
       "      <td>28548512</td>\n",
       "      <td>0.0141</td>\n",
       "      <td>1933779</td>\n",
       "    </tr>\n",
       "    <tr>\n",
       "      <th>7</th>\n",
       "      <td>1985</td>\n",
       "      <td>30303794</td>\n",
       "      <td>0.0120</td>\n",
       "      <td>1755282</td>\n",
       "    </tr>\n",
       "    <tr>\n",
       "      <th>8</th>\n",
       "      <td>1990</td>\n",
       "      <td>32530003</td>\n",
       "      <td>0.0143</td>\n",
       "      <td>2226209</td>\n",
       "    </tr>\n",
       "    <tr>\n",
       "      <th>9</th>\n",
       "      <td>1995</td>\n",
       "      <td>33586573</td>\n",
       "      <td>0.0064</td>\n",
       "      <td>1056570</td>\n",
       "    </tr>\n",
       "    <tr>\n",
       "      <th>10</th>\n",
       "      <td>2000</td>\n",
       "      <td>34449908</td>\n",
       "      <td>0.0051</td>\n",
       "      <td>863335</td>\n",
       "    </tr>\n",
       "    <tr>\n",
       "      <th>11</th>\n",
       "      <td>2005</td>\n",
       "      <td>35621544</td>\n",
       "      <td>0.0067</td>\n",
       "      <td>1171636</td>\n",
       "    </tr>\n",
       "    <tr>\n",
       "      <th>12</th>\n",
       "      <td>2010</td>\n",
       "      <td>36859626</td>\n",
       "      <td>0.0069</td>\n",
       "      <td>1238082</td>\n",
       "    </tr>\n",
       "    <tr>\n",
       "      <th>13</th>\n",
       "      <td>2015</td>\n",
       "      <td>37256109</td>\n",
       "      <td>0.0021</td>\n",
       "      <td>396483</td>\n",
       "    </tr>\n",
       "    <tr>\n",
       "      <th>14</th>\n",
       "      <td>2019</td>\n",
       "      <td>37435191</td>\n",
       "      <td>0.0012</td>\n",
       "      <td>179082</td>\n",
       "    </tr>\n",
       "    <tr>\n",
       "      <th>15</th>\n",
       "      <td>2020</td>\n",
       "      <td>37393129</td>\n",
       "      <td>-0.0011</td>\n",
       "      <td>-42062</td>\n",
       "    </tr>\n",
       "    <tr>\n",
       "      <th>16</th>\n",
       "      <td>2025</td>\n",
       "      <td>37036204</td>\n",
       "      <td>-0.0019</td>\n",
       "      <td>-356925</td>\n",
       "    </tr>\n",
       "    <tr>\n",
       "      <th>17</th>\n",
       "      <td>2030</td>\n",
       "      <td>36573799</td>\n",
       "      <td>-0.0025</td>\n",
       "      <td>-462405</td>\n",
       "    </tr>\n",
       "    <tr>\n",
       "      <th>18</th>\n",
       "      <td>2035</td>\n",
       "      <td>36014030</td>\n",
       "      <td>-0.0031</td>\n",
       "      <td>-559769</td>\n",
       "    </tr>\n",
       "  </tbody>\n",
       "</table>\n",
       "</div>"
      ],
      "text/plain": [
       "    Year  Population  GrowthRate   Growth\n",
       "0   1950    11274641      0.0000        0\n",
       "1   1955    13712679      0.0399  2438038\n",
       "2   1960    16678821      0.0399  2966142\n",
       "3   1965    20284371      0.0399  3605550\n",
       "4   1970    23297503      0.0281  3013132\n",
       "5   1975    26614733      0.0270  3317230\n",
       "6   1980    28548512      0.0141  1933779\n",
       "7   1985    30303794      0.0120  1755282\n",
       "8   1990    32530003      0.0143  2226209\n",
       "9   1995    33586573      0.0064  1056570\n",
       "10  2000    34449908      0.0051   863335\n",
       "11  2005    35621544      0.0067  1171636\n",
       "12  2010    36859626      0.0069  1238082\n",
       "13  2015    37256109      0.0021   396483\n",
       "14  2019    37435191      0.0012   179082\n",
       "15  2020    37393129     -0.0011   -42062\n",
       "16  2025    37036204     -0.0019  -356925\n",
       "17  2030    36573799     -0.0025  -462405\n",
       "18  2035    36014030     -0.0031  -559769"
      ]
     },
     "execution_count": 5,
     "metadata": {},
     "output_type": "execute_result"
    }
   ],
   "source": [
    "tokyo = pd.read_csv(\"interpolation_data.csv\")\n",
    "tokyo"
   ]
  },
  {
   "cell_type": "code",
   "execution_count": 4,
   "metadata": {},
   "outputs": [],
   "source": [
    "xp = tokyo[\"Year\"].values\n",
    "fp = tokyo[\"Population\"].values"
   ]
  },
  {
   "cell_type": "code",
   "execution_count": 9,
   "metadata": {},
   "outputs": [
    {
     "data": {
      "text/plain": [
       "array([36938922.6, 37018219.2, 37097515.8, 37176812.4, 37256109. ,\n",
       "       37300879.5, 37345650. , 37390420.5])"
      ]
     },
     "execution_count": 9,
     "metadata": {},
     "output_type": "execute_result"
    }
   ],
   "source": [
    "years = [2011,2012,2013,2014,2015,2016,2017,2018]\n",
    "interpolate_pop = np.interp(years, xp, fp)\n",
    "interpolate_pop"
   ]
  },
  {
   "cell_type": "code",
   "execution_count": 10,
   "metadata": {},
   "outputs": [
    {
     "data": {
      "image/png": "[encoded data removed]",
      "text/plain": [
       "<Figure size 432x288 with 1 Axes>"
      ]
     },
     "metadata": {
      "needs_background": "light"
     },
     "output_type": "display_data"
    }
   ],
   "source": [
    "plt.scatter(x=xp, y=fp);\n",
    "plt.scatter(x=years, y=interpolate_pop);"
   ]
  },
  {
   "cell_type": "code",
   "execution_count": null,
   "metadata": {},
   "outputs": [],
   "source": []
  }
 ],
 "metadata": {
  "kernelspec": {
   "display_name": "Conda [PythonData]",
   "language": "python",
   "name": "pythondata"
  },
  "language_info": {
   "codemirror_mode": {
    "name": "ipython",
    "version": 3
   },
   "file_extension": ".py",
   "mimetype": "text/x-python",
   "name": "python",
   "nbconvert_exporter": "python",
   "pygments_lexer": "ipython3",
   "version": "3.6.8"
  }
 },
 "nbformat": 4,
 "nbformat_minor": 2
}
